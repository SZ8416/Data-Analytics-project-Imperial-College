{
 "cells": [
  {
   "cell_type": "markdown",
   "metadata": {},
   "source": [
    "## Import required module and dataset"
   ]
  },
  {
   "cell_type": "code",
   "execution_count": 47,
   "metadata": {
    "collapsed": true
   },
   "outputs": [],
   "source": [
    "import pandas as pd\n",
    "import numpy as np\n",
    "import matplotlib.pyplot as plt\n",
    "from sklearn.neighbors import KNeighborsClassifier\n",
    "from sklearn.preprocessing import StandardScaler\n",
    "from sklearn.model_selection import GridSearchCV\n",
    "from sklearn.metrics import confusion_matrix\n",
    "from sklearn.model_selection import train_test_split\n",
    "from sklearn.utils import shuffle\n",
    "\n",
    "%matplotlib inline"
   ]
  },
  {
   "cell_type": "code",
   "execution_count": 48,
   "metadata": {
    "collapsed": true
   },
   "outputs": [],
   "source": [
    "url_red = 'http://archive.ics.uci.edu/ml/machine-learning-databases/wine-quality/winequality-red.csv'\n",
    "url_wh = 'http://archive.ics.uci.edu/ml/machine-learning-databases/wine-quality/winequality-white.csv'"
   ]
  },
  {
   "cell_type": "code",
   "execution_count": 49,
   "metadata": {
    "collapsed": true
   },
   "outputs": [],
   "source": [
    "data = pd.read_csv(url_red, delimiter= ';')\n",
    "red = data"
   ]
  },
  {
   "cell_type": "code",
   "execution_count": 50,
   "metadata": {
    "collapsed": false
   },
   "outputs": [
    {
     "data": {
      "text/html": [
       "<div>\n",
       "<style scoped>\n",
       "    .dataframe tbody tr th:only-of-type {\n",
       "        vertical-align: middle;\n",
       "    }\n",
       "\n",
       "    .dataframe tbody tr th {\n",
       "        vertical-align: top;\n",
       "    }\n",
       "\n",
       "    .dataframe thead th {\n",
       "        text-align: right;\n",
       "    }\n",
       "</style>\n",
       "<table border=\"1\" class=\"dataframe\">\n",
       "  <thead>\n",
       "    <tr style=\"text-align: right;\">\n",
       "      <th></th>\n",
       "      <th>fixed acidity</th>\n",
       "      <th>volatile acidity</th>\n",
       "      <th>citric acid</th>\n",
       "      <th>residual sugar</th>\n",
       "      <th>chlorides</th>\n",
       "      <th>free sulfur dioxide</th>\n",
       "      <th>total sulfur dioxide</th>\n",
       "      <th>density</th>\n",
       "      <th>pH</th>\n",
       "      <th>sulphates</th>\n",
       "      <th>alcohol</th>\n",
       "      <th>quality</th>\n",
       "    </tr>\n",
       "  </thead>\n",
       "  <tbody>\n",
       "    <tr>\n",
       "      <th>0</th>\n",
       "      <td>7.4</td>\n",
       "      <td>0.70</td>\n",
       "      <td>0.00</td>\n",
       "      <td>1.9</td>\n",
       "      <td>0.076</td>\n",
       "      <td>11.0</td>\n",
       "      <td>34.0</td>\n",
       "      <td>0.9978</td>\n",
       "      <td>3.51</td>\n",
       "      <td>0.56</td>\n",
       "      <td>9.4</td>\n",
       "      <td>5</td>\n",
       "    </tr>\n",
       "    <tr>\n",
       "      <th>1</th>\n",
       "      <td>7.8</td>\n",
       "      <td>0.88</td>\n",
       "      <td>0.00</td>\n",
       "      <td>2.6</td>\n",
       "      <td>0.098</td>\n",
       "      <td>25.0</td>\n",
       "      <td>67.0</td>\n",
       "      <td>0.9968</td>\n",
       "      <td>3.20</td>\n",
       "      <td>0.68</td>\n",
       "      <td>9.8</td>\n",
       "      <td>5</td>\n",
       "    </tr>\n",
       "    <tr>\n",
       "      <th>2</th>\n",
       "      <td>7.8</td>\n",
       "      <td>0.76</td>\n",
       "      <td>0.04</td>\n",
       "      <td>2.3</td>\n",
       "      <td>0.092</td>\n",
       "      <td>15.0</td>\n",
       "      <td>54.0</td>\n",
       "      <td>0.9970</td>\n",
       "      <td>3.26</td>\n",
       "      <td>0.65</td>\n",
       "      <td>9.8</td>\n",
       "      <td>5</td>\n",
       "    </tr>\n",
       "    <tr>\n",
       "      <th>3</th>\n",
       "      <td>11.2</td>\n",
       "      <td>0.28</td>\n",
       "      <td>0.56</td>\n",
       "      <td>1.9</td>\n",
       "      <td>0.075</td>\n",
       "      <td>17.0</td>\n",
       "      <td>60.0</td>\n",
       "      <td>0.9980</td>\n",
       "      <td>3.16</td>\n",
       "      <td>0.58</td>\n",
       "      <td>9.8</td>\n",
       "      <td>6</td>\n",
       "    </tr>\n",
       "    <tr>\n",
       "      <th>4</th>\n",
       "      <td>7.4</td>\n",
       "      <td>0.70</td>\n",
       "      <td>0.00</td>\n",
       "      <td>1.9</td>\n",
       "      <td>0.076</td>\n",
       "      <td>11.0</td>\n",
       "      <td>34.0</td>\n",
       "      <td>0.9978</td>\n",
       "      <td>3.51</td>\n",
       "      <td>0.56</td>\n",
       "      <td>9.4</td>\n",
       "      <td>5</td>\n",
       "    </tr>\n",
       "  </tbody>\n",
       "</table>\n",
       "</div>"
      ],
      "text/plain": [
       "   fixed acidity  volatile acidity  citric acid  residual sugar  chlorides  \\\n",
       "0            7.4              0.70         0.00             1.9      0.076   \n",
       "1            7.8              0.88         0.00             2.6      0.098   \n",
       "2            7.8              0.76         0.04             2.3      0.092   \n",
       "3           11.2              0.28         0.56             1.9      0.075   \n",
       "4            7.4              0.70         0.00             1.9      0.076   \n",
       "\n",
       "   free sulfur dioxide  total sulfur dioxide  density    pH  sulphates  \\\n",
       "0                 11.0                  34.0   0.9978  3.51       0.56   \n",
       "1                 25.0                  67.0   0.9968  3.20       0.68   \n",
       "2                 15.0                  54.0   0.9970  3.26       0.65   \n",
       "3                 17.0                  60.0   0.9980  3.16       0.58   \n",
       "4                 11.0                  34.0   0.9978  3.51       0.56   \n",
       "\n",
       "   alcohol  quality  \n",
       "0      9.4        5  \n",
       "1      9.8        5  \n",
       "2      9.8        5  \n",
       "3      9.8        6  \n",
       "4      9.4        5  "
      ]
     },
     "execution_count": 50,
     "metadata": {},
     "output_type": "execute_result"
    }
   ],
   "source": [
    "red.head()"
   ]
  },
  {
   "cell_type": "code",
   "execution_count": 51,
   "metadata": {
    "collapsed": false,
    "scrolled": true
   },
   "outputs": [
    {
     "data": {
      "text/plain": [
       "array([[<matplotlib.axes._subplots.AxesSubplot object at 0x000001CA90BED240>,\n",
       "        <matplotlib.axes._subplots.AxesSubplot object at 0x000001CA8F279320>,\n",
       "        <matplotlib.axes._subplots.AxesSubplot object at 0x000001CA91A3EF28>],\n",
       "       [<matplotlib.axes._subplots.AxesSubplot object at 0x000001CA91A7BC18>,\n",
       "        <matplotlib.axes._subplots.AxesSubplot object at 0x000001CA91AB8748>,\n",
       "        <matplotlib.axes._subplots.AxesSubplot object at 0x000001CA91AB8780>],\n",
       "       [<matplotlib.axes._subplots.AxesSubplot object at 0x000001CA91B23198>,\n",
       "        <matplotlib.axes._subplots.AxesSubplot object at 0x000001CA91B5C198>,\n",
       "        <matplotlib.axes._subplots.AxesSubplot object at 0x000001CA91B96208>],\n",
       "       [<matplotlib.axes._subplots.AxesSubplot object at 0x000001CA91BA9320>,\n",
       "        <matplotlib.axes._subplots.AxesSubplot object at 0x000001CA91BF7AC8>,\n",
       "        <matplotlib.axes._subplots.AxesSubplot object at 0x000001CA91C7DF98>]], dtype=object)"
      ]
     },
     "execution_count": 51,
     "metadata": {},
     "output_type": "execute_result"
    },
    {
     "data": {
      "image/png": "[encoded data removed]",
      "text/plain": [
       "<matplotlib.figure.Figure at 0x1ca90bc80f0>"
      ]
     },
     "metadata": {},
     "output_type": "display_data"
    }
   ],
   "source": [
    "red.hist(figsize=(10, 10), layout=(4, 3))"
   ]
  },
  {
   "cell_type": "markdown",
   "metadata": {},
   "source": [
    "## Preprocessing"
   ]
  },
  {
   "cell_type": "markdown",
   "metadata": {},
   "source": [
    "### 1. Missing values Check "
   ]
  },
  {
   "cell_type": "code",
   "execution_count": 52,
   "metadata": {
    "collapsed": false,
    "scrolled": true
   },
   "outputs": [
    {
     "data": {
      "text/plain": [
       "fixed acidity           float64\n",
       "volatile acidity        float64\n",
       "citric acid             float64\n",
       "residual sugar          float64\n",
       "chlorides               float64\n",
       "free sulfur dioxide     float64\n",
       "total sulfur dioxide    float64\n",
       "density                 float64\n",
       "pH                      float64\n",
       "sulphates               float64\n",
       "alcohol                 float64\n",
       "quality                   int64\n",
       "dtype: object"
      ]
     },
     "execution_count": 52,
     "metadata": {},
     "output_type": "execute_result"
    }
   ],
   "source": [
    "red.dtypes"
   ]
  },
  {
   "cell_type": "code",
   "execution_count": 53,
   "metadata": {
    "collapsed": false,
    "scrolled": false
   },
   "outputs": [
    {
     "data": {
      "text/html": [
       "<div>\n",
       "<style scoped>\n",
       "    .dataframe tbody tr th:only-of-type {\n",
       "        vertical-align: middle;\n",
       "    }\n",
       "\n",
       "    .dataframe tbody tr th {\n",
       "        vertical-align: top;\n",
       "    }\n",
       "\n",
       "    .dataframe thead th {\n",
       "        text-align: right;\n",
       "    }\n",
       "</style>\n",
       "<table border=\"1\" class=\"dataframe\">\n",
       "  <thead>\n",
       "    <tr style=\"text-align: right;\">\n",
       "      <th></th>\n",
       "      <th>fixed acidity</th>\n",
       "      <th>volatile acidity</th>\n",
       "      <th>citric acid</th>\n",
       "      <th>residual sugar</th>\n",
       "      <th>chlorides</th>\n",
       "      <th>free sulfur dioxide</th>\n",
       "      <th>total sulfur dioxide</th>\n",
       "      <th>density</th>\n",
       "      <th>pH</th>\n",
       "      <th>sulphates</th>\n",
       "      <th>alcohol</th>\n",
       "      <th>quality</th>\n",
       "    </tr>\n",
       "  </thead>\n",
       "  <tbody>\n",
       "    <tr>\n",
       "      <th>count</th>\n",
       "      <td>1599.000000</td>\n",
       "      <td>1599.000000</td>\n",
       "      <td>1599.000000</td>\n",
       "      <td>1599.000000</td>\n",
       "      <td>1599.000000</td>\n",
       "      <td>1599.000000</td>\n",
       "      <td>1599.000000</td>\n",
       "      <td>1599.000000</td>\n",
       "      <td>1599.000000</td>\n",
       "      <td>1599.000000</td>\n",
       "      <td>1599.000000</td>\n",
       "      <td>1599.000000</td>\n",
       "    </tr>\n",
       "    <tr>\n",
       "      <th>mean</th>\n",
       "      <td>8.319637</td>\n",
       "      <td>0.527821</td>\n",
       "      <td>0.270976</td>\n",
       "      <td>2.538806</td>\n",
       "      <td>0.087467</td>\n",
       "      <td>15.874922</td>\n",
       "      <td>46.467792</td>\n",
       "      <td>0.996747</td>\n",
       "      <td>3.311113</td>\n",
       "      <td>0.658149</td>\n",
       "      <td>10.422983</td>\n",
       "      <td>5.636023</td>\n",
       "    </tr>\n",
       "    <tr>\n",
       "      <th>std</th>\n",
       "      <td>1.741096</td>\n",
       "      <td>0.179060</td>\n",
       "      <td>0.194801</td>\n",
       "      <td>1.409928</td>\n",
       "      <td>0.047065</td>\n",
       "      <td>10.460157</td>\n",
       "      <td>32.895324</td>\n",
       "      <td>0.001887</td>\n",
       "      <td>0.154386</td>\n",
       "      <td>0.169507</td>\n",
       "      <td>1.065668</td>\n",
       "      <td>0.807569</td>\n",
       "    </tr>\n",
       "    <tr>\n",
       "      <th>min</th>\n",
       "      <td>4.600000</td>\n",
       "      <td>0.120000</td>\n",
       "      <td>0.000000</td>\n",
       "      <td>0.900000</td>\n",
       "      <td>0.012000</td>\n",
       "      <td>1.000000</td>\n",
       "      <td>6.000000</td>\n",
       "      <td>0.990070</td>\n",
       "      <td>2.740000</td>\n",
       "      <td>0.330000</td>\n",
       "      <td>8.400000</td>\n",
       "      <td>3.000000</td>\n",
       "    </tr>\n",
       "    <tr>\n",
       "      <th>25%</th>\n",
       "      <td>7.100000</td>\n",
       "      <td>0.390000</td>\n",
       "      <td>0.090000</td>\n",
       "      <td>1.900000</td>\n",
       "      <td>0.070000</td>\n",
       "      <td>7.000000</td>\n",
       "      <td>22.000000</td>\n",
       "      <td>0.995600</td>\n",
       "      <td>3.210000</td>\n",
       "      <td>0.550000</td>\n",
       "      <td>9.500000</td>\n",
       "      <td>5.000000</td>\n",
       "    </tr>\n",
       "    <tr>\n",
       "      <th>50%</th>\n",
       "      <td>7.900000</td>\n",
       "      <td>0.520000</td>\n",
       "      <td>0.260000</td>\n",
       "      <td>2.200000</td>\n",
       "      <td>0.079000</td>\n",
       "      <td>14.000000</td>\n",
       "      <td>38.000000</td>\n",
       "      <td>0.996750</td>\n",
       "      <td>3.310000</td>\n",
       "      <td>0.620000</td>\n",
       "      <td>10.200000</td>\n",
       "      <td>6.000000</td>\n",
       "    </tr>\n",
       "    <tr>\n",
       "      <th>75%</th>\n",
       "      <td>9.200000</td>\n",
       "      <td>0.640000</td>\n",
       "      <td>0.420000</td>\n",
       "      <td>2.600000</td>\n",
       "      <td>0.090000</td>\n",
       "      <td>21.000000</td>\n",
       "      <td>62.000000</td>\n",
       "      <td>0.997835</td>\n",
       "      <td>3.400000</td>\n",
       "      <td>0.730000</td>\n",
       "      <td>11.100000</td>\n",
       "      <td>6.000000</td>\n",
       "    </tr>\n",
       "    <tr>\n",
       "      <th>max</th>\n",
       "      <td>15.900000</td>\n",
       "      <td>1.580000</td>\n",
       "      <td>1.000000</td>\n",
       "      <td>15.500000</td>\n",
       "      <td>0.611000</td>\n",
       "      <td>72.000000</td>\n",
       "      <td>289.000000</td>\n",
       "      <td>1.003690</td>\n",
       "      <td>4.010000</td>\n",
       "      <td>2.000000</td>\n",
       "      <td>14.900000</td>\n",
       "      <td>8.000000</td>\n",
       "    </tr>\n",
       "  </tbody>\n",
       "</table>\n",
       "</div>"
      ],
      "text/plain": [
       "       fixed acidity  volatile acidity  citric acid  residual sugar  \\\n",
       "count    1599.000000       1599.000000  1599.000000     1599.000000   \n",
       "mean        8.319637          0.527821     0.270976        2.538806   \n",
       "std         1.741096          0.179060     0.194801        1.409928   \n",
       "min         4.600000          0.120000     0.000000        0.900000   \n",
       "25%         7.100000          0.390000     0.090000        1.900000   \n",
       "50%         7.900000          0.520000     0.260000        2.200000   \n",
       "75%         9.200000          0.640000     0.420000        2.600000   \n",
       "max        15.900000          1.580000     1.000000       15.500000   \n",
       "\n",
       "         chlorides  free sulfur dioxide  total sulfur dioxide      density  \\\n",
       "count  1599.000000          1599.000000           1599.000000  1599.000000   \n",
       "mean      0.087467            15.874922             46.467792     0.996747   \n",
       "std       0.047065            10.460157             32.895324     0.001887   \n",
       "min       0.012000             1.000000              6.000000     0.990070   \n",
       "25%       0.070000             7.000000             22.000000     0.995600   \n",
       "50%       0.079000            14.000000             38.000000     0.996750   \n",
       "75%       0.090000            21.000000             62.000000     0.997835   \n",
       "max       0.611000            72.000000            289.000000     1.003690   \n",
       "\n",
       "                pH    sulphates      alcohol      quality  \n",
       "count  1599.000000  1599.000000  1599.000000  1599.000000  \n",
       "mean      3.311113     0.658149    10.422983     5.636023  \n",
       "std       0.154386     0.169507     1.065668     0.807569  \n",
       "min       2.740000     0.330000     8.400000     3.000000  \n",
       "25%       3.210000     0.550000     9.500000     5.000000  \n",
       "50%       3.310000     0.620000    10.200000     6.000000  \n",
       "75%       3.400000     0.730000    11.100000     6.000000  \n",
       "max       4.010000     2.000000    14.900000     8.000000  "
      ]
     },
     "execution_count": 53,
     "metadata": {},
     "output_type": "execute_result"
    }
   ],
   "source": [
    "red.describe()"
   ]
  },
  {
   "cell_type": "markdown",
   "metadata": {},
   "source": [
    "### 2. Create new column (label) "
   ]
  },
  {
   "cell_type": "code",
   "execution_count": 54,
   "metadata": {
    "collapsed": false,
    "scrolled": true
   },
   "outputs": [
    {
     "data": {
      "text/plain": [
       "5    681\n",
       "6    638\n",
       "7    199\n",
       "4     53\n",
       "8     18\n",
       "3     10\n",
       "Name: quality, dtype: int64"
      ]
     },
     "execution_count": 54,
     "metadata": {},
     "output_type": "execute_result"
    }
   ],
   "source": [
    "red.quality.value_counts()"
   ]
  },
  {
   "cell_type": "code",
   "execution_count": 55,
   "metadata": {
    "collapsed": true
   },
   "outputs": [],
   "source": [
    "# quality values mapping\n",
    "# 3, 4, 5 are equal to 0 and 6, 7, 8  are equal to 1\n",
    "# 1 for good quality and 0 for not good quality\n",
    "red['good_wine'] = red.quality.map({3:0, 4:0, 5:0, 6:1, 7:1, 8:1}) "
   ]
  },
  {
   "cell_type": "code",
   "execution_count": 56,
   "metadata": {
    "collapsed": false,
    "scrolled": false
   },
   "outputs": [
    {
     "data": {
      "text/html": [
       "<div>\n",
       "<style scoped>\n",
       "    .dataframe tbody tr th:only-of-type {\n",
       "        vertical-align: middle;\n",
       "    }\n",
       "\n",
       "    .dataframe tbody tr th {\n",
       "        vertical-align: top;\n",
       "    }\n",
       "\n",
       "    .dataframe thead th {\n",
       "        text-align: right;\n",
       "    }\n",
       "</style>\n",
       "<table border=\"1\" class=\"dataframe\">\n",
       "  <thead>\n",
       "    <tr style=\"text-align: right;\">\n",
       "      <th></th>\n",
       "      <th>fixed acidity</th>\n",
       "      <th>volatile acidity</th>\n",
       "      <th>citric acid</th>\n",
       "      <th>residual sugar</th>\n",
       "      <th>chlorides</th>\n",
       "      <th>free sulfur dioxide</th>\n",
       "      <th>total sulfur dioxide</th>\n",
       "      <th>density</th>\n",
       "      <th>pH</th>\n",
       "      <th>sulphates</th>\n",
       "      <th>alcohol</th>\n",
       "      <th>quality</th>\n",
       "      <th>good_wine</th>\n",
       "    </tr>\n",
       "  </thead>\n",
       "  <tbody>\n",
       "    <tr>\n",
       "      <th>259</th>\n",
       "      <td>10.0</td>\n",
       "      <td>0.31</td>\n",
       "      <td>0.47</td>\n",
       "      <td>2.6</td>\n",
       "      <td>0.085</td>\n",
       "      <td>14.0</td>\n",
       "      <td>33.0</td>\n",
       "      <td>0.99965</td>\n",
       "      <td>3.36</td>\n",
       "      <td>0.80</td>\n",
       "      <td>10.5</td>\n",
       "      <td>7</td>\n",
       "      <td>1</td>\n",
       "    </tr>\n",
       "    <tr>\n",
       "      <th>1378</th>\n",
       "      <td>7.2</td>\n",
       "      <td>0.45</td>\n",
       "      <td>0.15</td>\n",
       "      <td>2.0</td>\n",
       "      <td>0.078</td>\n",
       "      <td>10.0</td>\n",
       "      <td>28.0</td>\n",
       "      <td>0.99609</td>\n",
       "      <td>3.29</td>\n",
       "      <td>0.51</td>\n",
       "      <td>9.9</td>\n",
       "      <td>6</td>\n",
       "      <td>1</td>\n",
       "    </tr>\n",
       "    <tr>\n",
       "      <th>1535</th>\n",
       "      <td>7.0</td>\n",
       "      <td>0.55</td>\n",
       "      <td>0.13</td>\n",
       "      <td>2.2</td>\n",
       "      <td>0.075</td>\n",
       "      <td>15.0</td>\n",
       "      <td>35.0</td>\n",
       "      <td>0.99590</td>\n",
       "      <td>3.36</td>\n",
       "      <td>0.59</td>\n",
       "      <td>9.7</td>\n",
       "      <td>6</td>\n",
       "      <td>1</td>\n",
       "    </tr>\n",
       "    <tr>\n",
       "      <th>717</th>\n",
       "      <td>7.6</td>\n",
       "      <td>0.46</td>\n",
       "      <td>0.11</td>\n",
       "      <td>2.6</td>\n",
       "      <td>0.079</td>\n",
       "      <td>12.0</td>\n",
       "      <td>49.0</td>\n",
       "      <td>0.99680</td>\n",
       "      <td>3.21</td>\n",
       "      <td>0.57</td>\n",
       "      <td>10.0</td>\n",
       "      <td>5</td>\n",
       "      <td>0</td>\n",
       "    </tr>\n",
       "    <tr>\n",
       "      <th>111</th>\n",
       "      <td>8.4</td>\n",
       "      <td>0.62</td>\n",
       "      <td>0.09</td>\n",
       "      <td>2.2</td>\n",
       "      <td>0.084</td>\n",
       "      <td>11.0</td>\n",
       "      <td>108.0</td>\n",
       "      <td>0.99640</td>\n",
       "      <td>3.15</td>\n",
       "      <td>0.66</td>\n",
       "      <td>9.8</td>\n",
       "      <td>5</td>\n",
       "      <td>0</td>\n",
       "    </tr>\n",
       "    <tr>\n",
       "      <th>1050</th>\n",
       "      <td>7.1</td>\n",
       "      <td>0.43</td>\n",
       "      <td>0.17</td>\n",
       "      <td>1.8</td>\n",
       "      <td>0.082</td>\n",
       "      <td>27.0</td>\n",
       "      <td>51.0</td>\n",
       "      <td>0.99634</td>\n",
       "      <td>3.49</td>\n",
       "      <td>0.64</td>\n",
       "      <td>10.4</td>\n",
       "      <td>5</td>\n",
       "      <td>0</td>\n",
       "    </tr>\n",
       "    <tr>\n",
       "      <th>805</th>\n",
       "      <td>8.2</td>\n",
       "      <td>0.28</td>\n",
       "      <td>0.40</td>\n",
       "      <td>2.4</td>\n",
       "      <td>0.052</td>\n",
       "      <td>4.0</td>\n",
       "      <td>10.0</td>\n",
       "      <td>0.99356</td>\n",
       "      <td>3.33</td>\n",
       "      <td>0.70</td>\n",
       "      <td>12.8</td>\n",
       "      <td>7</td>\n",
       "      <td>1</td>\n",
       "    </tr>\n",
       "    <tr>\n",
       "      <th>819</th>\n",
       "      <td>9.1</td>\n",
       "      <td>0.66</td>\n",
       "      <td>0.15</td>\n",
       "      <td>3.2</td>\n",
       "      <td>0.097</td>\n",
       "      <td>9.0</td>\n",
       "      <td>59.0</td>\n",
       "      <td>0.99976</td>\n",
       "      <td>3.28</td>\n",
       "      <td>0.54</td>\n",
       "      <td>9.6</td>\n",
       "      <td>5</td>\n",
       "      <td>0</td>\n",
       "    </tr>\n",
       "    <tr>\n",
       "      <th>1245</th>\n",
       "      <td>7.4</td>\n",
       "      <td>0.55</td>\n",
       "      <td>0.19</td>\n",
       "      <td>1.8</td>\n",
       "      <td>0.082</td>\n",
       "      <td>15.0</td>\n",
       "      <td>34.0</td>\n",
       "      <td>0.99655</td>\n",
       "      <td>3.49</td>\n",
       "      <td>0.68</td>\n",
       "      <td>10.5</td>\n",
       "      <td>5</td>\n",
       "      <td>0</td>\n",
       "    </tr>\n",
       "    <tr>\n",
       "      <th>395</th>\n",
       "      <td>12.0</td>\n",
       "      <td>0.37</td>\n",
       "      <td>0.76</td>\n",
       "      <td>4.2</td>\n",
       "      <td>0.066</td>\n",
       "      <td>7.0</td>\n",
       "      <td>38.0</td>\n",
       "      <td>1.00040</td>\n",
       "      <td>3.22</td>\n",
       "      <td>0.60</td>\n",
       "      <td>13.0</td>\n",
       "      <td>7</td>\n",
       "      <td>1</td>\n",
       "    </tr>\n",
       "  </tbody>\n",
       "</table>\n",
       "</div>"
      ],
      "text/plain": [
       "      fixed acidity  volatile acidity  citric acid  residual sugar  chlorides  \\\n",
       "259            10.0              0.31         0.47             2.6      0.085   \n",
       "1378            7.2              0.45         0.15             2.0      0.078   \n",
       "1535            7.0              0.55         0.13             2.2      0.075   \n",
       "717             7.6              0.46         0.11             2.6      0.079   \n",
       "111             8.4              0.62         0.09             2.2      0.084   \n",
       "1050            7.1              0.43         0.17             1.8      0.082   \n",
       "805             8.2              0.28         0.40             2.4      0.052   \n",
       "819             9.1              0.66         0.15             3.2      0.097   \n",
       "1245            7.4              0.55         0.19             1.8      0.082   \n",
       "395            12.0              0.37         0.76             4.2      0.066   \n",
       "\n",
       "      free sulfur dioxide  total sulfur dioxide  density    pH  sulphates  \\\n",
       "259                  14.0                  33.0  0.99965  3.36       0.80   \n",
       "1378                 10.0                  28.0  0.99609  3.29       0.51   \n",
       "1535                 15.0                  35.0  0.99590  3.36       0.59   \n",
       "717                  12.0                  49.0  0.99680  3.21       0.57   \n",
       "111                  11.0                 108.0  0.99640  3.15       0.66   \n",
       "1050                 27.0                  51.0  0.99634  3.49       0.64   \n",
       "805                   4.0                  10.0  0.99356  3.33       0.70   \n",
       "819                   9.0                  59.0  0.99976  3.28       0.54   \n",
       "1245                 15.0                  34.0  0.99655  3.49       0.68   \n",
       "395                   7.0                  38.0  1.00040  3.22       0.60   \n",
       "\n",
       "      alcohol  quality  good_wine  \n",
       "259      10.5        7          1  \n",
       "1378      9.9        6          1  \n",
       "1535      9.7        6          1  \n",
       "717      10.0        5          0  \n",
       "111       9.8        5          0  \n",
       "1050     10.4        5          0  \n",
       "805      12.8        7          1  \n",
       "819       9.6        5          0  \n",
       "1245     10.5        5          0  \n",
       "395      13.0        7          1  "
      ]
     },
     "execution_count": 56,
     "metadata": {},
     "output_type": "execute_result"
    }
   ],
   "source": [
    "red.sample(n = 10)"
   ]
  },
  {
   "cell_type": "code",
   "execution_count": 57,
   "metadata": {
    "collapsed": false,
    "scrolled": true
   },
   "outputs": [
    {
     "data": {
      "text/plain": [
       "1    855\n",
       "0    744\n",
       "Name: good_wine, dtype: int64"
      ]
     },
     "execution_count": 57,
     "metadata": {},
     "output_type": "execute_result"
    }
   ],
   "source": [
    "#Good wine value distribution\n",
    "red.good_wine.value_counts()"
   ]
  },
  {
   "cell_type": "markdown",
   "metadata": {},
   "source": [
    "### 3. Split data into train and test set"
   ]
  },
  {
   "cell_type": "code",
   "execution_count": 58,
   "metadata": {
    "collapsed": true
   },
   "outputs": [],
   "source": [
    "X = red.drop(['quality','good_wine'], axis = 1)\n",
    "y = red['good_wine']"
   ]
  },
  {
   "cell_type": "code",
   "execution_count": 59,
   "metadata": {
    "collapsed": true
   },
   "outputs": [],
   "source": [
    "#Train(50%), Test(50%) dataset split by shuffling\n",
    "X_train, X_test, y_train, y_test = train_test_split(X, y, test_size = 0.5, random_state = 123, shuffle = True)"
   ]
  },
  {
   "cell_type": "markdown",
   "metadata": {},
   "source": [
    "### 4. Normalization"
   ]
  },
  {
   "cell_type": "code",
   "execution_count": 60,
   "metadata": {
    "collapsed": true,
    "scrolled": true
   },
   "outputs": [],
   "source": [
    "#Independent Variables Standarsation\n",
    "scaler = StandardScaler()\n",
    "scaler.fit(X_train)\n",
    "X_train_norm = scaler.transform(X_train)\n",
    "X_test_norm = scaler.transform(X_test)"
   ]
  },
  {
   "cell_type": "markdown",
   "metadata": {},
   "source": [
    "## Parameter selection for KNN model"
   ]
  },
  {
   "cell_type": "code",
   "execution_count": 61,
   "metadata": {
    "collapsed": true
   },
   "outputs": [],
   "source": [
    "# since only one ML technique is used, we don't need to use pipeline method here\n",
    "# Next cell includes new code for model and parameter selection, please have a look! \n",
    "neighbors = list(np.arange(1, 500, 5))\n",
    "param_grid = {'n_neighbors':neighbors}\n",
    "\n",
    "knn = KNeighborsClassifier()\n",
    "\n",
    "grid = GridSearchCV(estimator=knn, param_grid=param_grid, scoring='accuracy', cv=5)\n",
    "grid_result = grid.fit(X_train_norm, y_train)"
   ]
  },
  {
   "cell_type": "code",
   "execution_count": 62,
   "metadata": {
    "collapsed": false
   },
   "outputs": [
    {
     "name": "stdout",
     "output_type": "stream",
     "text": [
      "Highest Accuracy: 0.757196 with the 51 of neighbors\n",
      "\n",
      "Accuracy: 0.719583\tusing {'n_neighbors': 1}\n",
      "Accuracy: 0.715715\tusing {'n_neighbors': 6}\n",
      "Accuracy: 0.752193\tusing {'n_neighbors': 11}\n",
      "Accuracy: 0.738513\tusing {'n_neighbors': 16}\n",
      "Accuracy: 0.740998\tusing {'n_neighbors': 21}\n",
      "Accuracy: 0.737146\tusing {'n_neighbors': 26}\n",
      "Accuracy: 0.729693\tusing {'n_neighbors': 31}\n",
      "Accuracy: 0.734708\tusing {'n_neighbors': 36}\n",
      "Accuracy: 0.747240\tusing {'n_neighbors': 41}\n",
      "Accuracy: 0.748529\tusing {'n_neighbors': 46}\n",
      "Accuracy: 0.757256\tusing {'n_neighbors': 51}\n",
      "Accuracy: 0.745982\tusing {'n_neighbors': 56}\n",
      "Accuracy: 0.749709\tusing {'n_neighbors': 61}\n",
      "Accuracy: 0.749678\tusing {'n_neighbors': 66}\n",
      "Accuracy: 0.743467\tusing {'n_neighbors': 71}\n",
      "Accuracy: 0.750967\tusing {'n_neighbors': 76}\n",
      "Accuracy: 0.739709\tusing {'n_neighbors': 81}\n",
      "Accuracy: 0.745920\tusing {'n_neighbors': 86}\n",
      "Accuracy: 0.744724\tusing {'n_neighbors': 91}\n",
      "Accuracy: 0.749756\tusing {'n_neighbors': 96}\n",
      "Accuracy: 0.742287\tusing {'n_neighbors': 101}\n",
      "Accuracy: 0.742240\tusing {'n_neighbors': 106}\n",
      "Accuracy: 0.739724\tusing {'n_neighbors': 111}\n",
      "Accuracy: 0.744724\tusing {'n_neighbors': 116}\n",
      "Accuracy: 0.739740\tusing {'n_neighbors': 121}\n",
      "Accuracy: 0.739740\tusing {'n_neighbors': 126}\n",
      "Accuracy: 0.741013\tusing {'n_neighbors': 131}\n",
      "Accuracy: 0.736013\tusing {'n_neighbors': 136}\n",
      "Accuracy: 0.737287\tusing {'n_neighbors': 141}\n",
      "Accuracy: 0.734755\tusing {'n_neighbors': 146}\n",
      "Accuracy: 0.734755\tusing {'n_neighbors': 151}\n",
      "Accuracy: 0.736029\tusing {'n_neighbors': 156}\n",
      "Accuracy: 0.734740\tusing {'n_neighbors': 161}\n",
      "Accuracy: 0.739755\tusing {'n_neighbors': 166}\n",
      "Accuracy: 0.738466\tusing {'n_neighbors': 171}\n",
      "Accuracy: 0.734787\tusing {'n_neighbors': 176}\n",
      "Accuracy: 0.730982\tusing {'n_neighbors': 181}\n",
      "Accuracy: 0.731013\tusing {'n_neighbors': 186}\n",
      "Accuracy: 0.729755\tusing {'n_neighbors': 191}\n",
      "Accuracy: 0.729755\tusing {'n_neighbors': 196}\n",
      "Accuracy: 0.736013\tusing {'n_neighbors': 201}\n",
      "Accuracy: 0.738544\tusing {'n_neighbors': 206}\n",
      "Accuracy: 0.742318\tusing {'n_neighbors': 211}\n",
      "Accuracy: 0.743576\tusing {'n_neighbors': 216}\n",
      "Accuracy: 0.747303\tusing {'n_neighbors': 221}\n",
      "Accuracy: 0.743498\tusing {'n_neighbors': 226}\n",
      "Accuracy: 0.742302\tusing {'n_neighbors': 231}\n",
      "Accuracy: 0.744849\tusing {'n_neighbors': 236}\n",
      "Accuracy: 0.746060\tusing {'n_neighbors': 241}\n",
      "Accuracy: 0.743576\tusing {'n_neighbors': 246}\n",
      "Accuracy: 0.746060\tusing {'n_neighbors': 251}\n",
      "Accuracy: 0.747318\tusing {'n_neighbors': 256}\n",
      "Accuracy: 0.744818\tusing {'n_neighbors': 261}\n",
      "Accuracy: 0.746045\tusing {'n_neighbors': 266}\n",
      "Accuracy: 0.744818\tusing {'n_neighbors': 271}\n",
      "Accuracy: 0.738544\tusing {'n_neighbors': 276}\n",
      "Accuracy: 0.739771\tusing {'n_neighbors': 281}\n",
      "Accuracy: 0.739755\tusing {'n_neighbors': 286}\n",
      "Accuracy: 0.744724\tusing {'n_neighbors': 291}\n",
      "Accuracy: 0.738466\tusing {'n_neighbors': 296}\n",
      "Accuracy: 0.739740\tusing {'n_neighbors': 301}\n",
      "Accuracy: 0.743513\tusing {'n_neighbors': 306}\n",
      "Accuracy: 0.739709\tusing {'n_neighbors': 311}\n",
      "Accuracy: 0.744740\tusing {'n_neighbors': 316}\n",
      "Accuracy: 0.740982\tusing {'n_neighbors': 321}\n",
      "Accuracy: 0.738451\tusing {'n_neighbors': 326}\n",
      "Accuracy: 0.730966\tusing {'n_neighbors': 331}\n",
      "Accuracy: 0.729693\tusing {'n_neighbors': 336}\n",
      "Accuracy: 0.727161\tusing {'n_neighbors': 341}\n",
      "Accuracy: 0.728403\tusing {'n_neighbors': 346}\n",
      "Accuracy: 0.724630\tusing {'n_neighbors': 351}\n",
      "Accuracy: 0.724645\tusing {'n_neighbors': 356}\n",
      "Accuracy: 0.718403\tusing {'n_neighbors': 361}\n",
      "Accuracy: 0.724630\tusing {'n_neighbors': 366}\n",
      "Accuracy: 0.717098\tusing {'n_neighbors': 371}\n",
      "Accuracy: 0.713372\tusing {'n_neighbors': 376}\n",
      "Accuracy: 0.709629\tusing {'n_neighbors': 381}\n",
      "Accuracy: 0.709614\tusing {'n_neighbors': 386}\n",
      "Accuracy: 0.707145\tusing {'n_neighbors': 391}\n",
      "Accuracy: 0.702145\tusing {'n_neighbors': 396}\n",
      "Accuracy: 0.703340\tusing {'n_neighbors': 401}\n",
      "Accuracy: 0.699582\tusing {'n_neighbors': 406}\n",
      "Accuracy: 0.694566\tusing {'n_neighbors': 411}\n",
      "Accuracy: 0.692066\tusing {'n_neighbors': 416}\n",
      "Accuracy: 0.688277\tusing {'n_neighbors': 421}\n",
      "Accuracy: 0.686988\tusing {'n_neighbors': 426}\n",
      "Accuracy: 0.673261\tusing {'n_neighbors': 431}\n",
      "Accuracy: 0.678261\tusing {'n_neighbors': 436}\n",
      "Accuracy: 0.672003\tusing {'n_neighbors': 441}\n",
      "Accuracy: 0.664534\tusing {'n_neighbors': 446}\n",
      "Accuracy: 0.658276\tusing {'n_neighbors': 451}\n",
      "Accuracy: 0.649486\tusing {'n_neighbors': 456}\n",
      "Accuracy: 0.635681\tusing {'n_neighbors': 461}\n",
      "Accuracy: 0.628181\tusing {'n_neighbors': 466}\n",
      "Accuracy: 0.615649\tusing {'n_neighbors': 471}\n",
      "Accuracy: 0.608149\tusing {'n_neighbors': 476}\n",
      "Accuracy: 0.590632\tusing {'n_neighbors': 481}\n",
      "Accuracy: 0.589390\tusing {'n_neighbors': 486}\n",
      "Accuracy: 0.573179\tusing {'n_neighbors': 491}\n",
      "Accuracy: 0.574421\tusing {'n_neighbors': 496}\n"
     ]
    },
    {
     "name": "stderr",
     "output_type": "stream",
     "text": [
      "C:\\Users\\min\\Anaconda3\\lib\\site-packages\\sklearn\\model_selection\\_search.py:761: DeprecationWarning: The grid_scores_ attribute was deprecated in version 0.18 in favor of the more elaborate cv_results_ attribute. The grid_scores_ attribute will not be available from 0.20\n",
      "  DeprecationWarning)\n"
     ]
    }
   ],
   "source": [
    "print(\"Highest Accuracy: %f with the %d of neighbors\\n\" %(grid_result.best_score_, grid_result.best_params_['n_neighbors']))\n",
    "for param, name, score in grid_result.grid_scores_:\n",
    "    print(\"Accuracy: %f\\tusing %r\" %(score.mean(),param))"
   ]
  },
  {
   "cell_type": "code",
   "execution_count": 63,
   "metadata": {
    "collapsed": false
   },
   "outputs": [
    {
     "data": {
      "text/plain": [
       "KNeighborsClassifier(algorithm='auto', leaf_size=30, metric='minkowski',\n",
       "           metric_params=None, n_jobs=1, n_neighbors=51, p=2,\n",
       "           weights='uniform')"
      ]
     },
     "execution_count": 63,
     "metadata": {},
     "output_type": "execute_result"
    }
   ],
   "source": [
    "# Best Model Selection\n",
    "best_knn = grid_result.best_estimator_\n",
    "best_knn"
   ]
  },
  {
   "cell_type": "code",
   "execution_count": 64,
   "metadata": {
    "collapsed": true
   },
   "outputs": [],
   "source": [
    "y_pred = best_knn.predict(X_test_norm)"
   ]
  },
  {
   "cell_type": "code",
   "execution_count": 65,
   "metadata": {
    "collapsed": false,
    "scrolled": false
   },
   "outputs": [
    {
     "name": "stdout",
     "output_type": "stream",
     "text": [
      "Confusion Matrix \n",
      "   TP  TN\n",
      " [[254  88]\n",
      " [133 325]] \n",
      "   FP  FN\n"
     ]
    }
   ],
   "source": [
    "cm = confusion_matrix(y_pred, y_test) # should use y_pred as 1st parameter and y_test 2nd, please double check\n",
    "print('Confusion Matrix \\n   TP  TN\\n', cm,'\\n   FP  FN')"
   ]
  },
  {
   "cell_type": "code",
   "execution_count": 70,
   "metadata": {
    "collapsed": false,
    "scrolled": true
   },
   "outputs": [
    {
     "name": "stdout",
     "output_type": "stream",
     "text": [
      "0.27625\n"
     ]
    }
   ],
   "source": [
    "# Generalisation Error Rate\n",
    "print(1-best_knn.score(X_test_norm, y_test))"
   ]
  },
  {
   "cell_type": "code",
   "execution_count": null,
   "metadata": {
    "collapsed": true
   },
   "outputs": [],
   "source": []
  }
 ],
 "metadata": {
  "kernelspec": {
   "display_name": "Python 3",
   "language": "python",
   "name": "python3"
  },
  "language_info": {
   "codemirror_mode": {
    "name": "ipython",
    "version": 3
   },
   "file_extension": ".py",
   "mimetype": "text/x-python",
   "name": "python",
   "nbconvert_exporter": "python",
   "pygments_lexer": "ipython3",
   "version": "3.6.0"
  }
 },
 "nbformat": 4,
 "nbformat_minor": 2
}
